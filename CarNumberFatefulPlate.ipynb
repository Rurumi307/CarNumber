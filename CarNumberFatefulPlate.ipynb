{
 "cells": [
  {
   "cell_type": "code",
   "execution_count": null,
   "id": "fbf8d977",
   "metadata": {},
   "outputs": [],
   "source": [
    "import requests\n",
    "import pandas as pd\n",
    "from bs4 import BeautifulSoup\n",
    "\n",
    "def scrape_and_analyze_lucky_numbers():\n",
    "    \"\"\"\n",
    "    Scrape and analyze lucky numbers data using web scraping.\n",
    "    \n",
    "    This function scrapes lucky numbers data from a specific website by sending post requests with different numbers.\n",
    "    It analyzes the scraped data and filters out unlucky numbers based on a predefined criterion.\n",
    "    The filtered lucky numbers are then merged with a DataFrame containing additional information.\n",
    "    The results are saved to an Excel file.\n",
    "    \"\"\"\n",
    "    headers = {\n",
    "        'User-Agent': \"Mozilla/5.0 (Windows NT 10.0; Win64; x64) AppleWebKit/537.36 (KHTML, like Gecko) Chrome/96.0.4664.93 Safari/537.36\"\n",
    "    }\n",
    "    \n",
    "    data = {\n",
    "        'chepai': '',\n",
    "        'go': '1',\n",
    "    }\n",
    "    data_types = {'Column1': int, '類別': str, '號碼': str, '總和': str}\n",
    "    lucky_numbers_df = pd.read_excel(\"./result/lucky_number.xlsx\", dtype=data_types)\n",
    "    chepai_df = pd.DataFrame()\n",
    "    chepai_dict = {}\n",
    "    \n",
    "    # Loop through lucky numbers\n",
    "    for number in lucky_numbers_df:\n",
    "        data['chepai'] = number\n",
    "        response = requests.post('https://m.8s8s.net/m/haomajixiong_chepai.php', headers=headers, data=data)\n",
    "        response.encoding = 'utf-8'\n",
    "        soup = BeautifulSoup(response.text, 'html.parser')\n",
    "        \n",
    "        # Extract content from the response\n",
    "        for content in soup.find(class_='c_2_text').find_all('p'):\n",
    "            chepai_dict[content.text.split('：')[0]] = content.text.split('：')[1]\n",
    "        \n",
    "        # Check if the number is lucky\n",
    "        if '凶' not in chepai_dict['吉凶預測']:\n",
    "            chepai_df = pd.concat([chepai_df, pd.DataFrame([chepai_dict])], ignore_index=True)\n",
    "    \n",
    "    # Merge lucky numbers with additional information\n",
    "    output_lucky_number = chepai_df.merge(lucky_numbers_df, how='left', left_on='您查詢的車牌號碼', right_on='號碼')\n",
    "    \n",
    "    # Save results to Excel\n",
    "    output_lucky_number.to_excel(\"./result/lucky_number_best.xlsx\")\n",
    "    return output_lucky_number\n"
   ]
  },
  {
   "cell_type": "code",
   "execution_count": null,
   "id": "c238746e",
   "metadata": {},
   "outputs": [],
   "source": [
    "output_lucky_number_df = scrape_and_analyze_lucky_numbers()"
   ]
  },
  {
   "cell_type": "code",
   "execution_count": null,
   "id": "9a2529ee",
   "metadata": {},
   "outputs": [],
   "source": [
    "import requests\n",
    "from bs4 import BeautifulSoup\n",
    "import pandas as pd\n",
    "\n",
    "number = '1235'\n",
    "headers = {\n",
    "        'User-Agent': \"Mozilla/5.0 (Windows NT 10.0; Win64; x64) AppleWebKit/537.36 (KHTML, like Gecko) Chrome/96.0.4664.93 Safari/537.36\"\n",
    "    }\n",
    "data = {\n",
    "    'chepai': number,\n",
    "    'go': '1',\n",
    "}\n",
    "response = requests.post('https://m.8s8s.net/m/haomajixiong_chepai.php', headers=headers, data=data)\n",
    "response.encoding = 'utf-8'\n",
    "soup = BeautifulSoup(response.text, 'html.parser')\n",
    "test_df = pd.DataFrame()\n",
    "chepai_dict = {}\n",
    "for content in soup.find(class_='c_2_text').find_all('p'):\n",
    "    chepai_dict[content.text.split('：')[0]] = content.text.split('：')[1]\n",
    "test_df = pd.concat([test_df, pd.DataFrame([chepai_dict])], ignore_index=True)\n",
    "test_df"
   ]
  }
 ],
 "metadata": {
  "kernelspec": {
   "display_name": "Python 3.9.4 64-bit",
   "language": "python",
   "name": "python3"
  },
  "language_info": {
   "codemirror_mode": {
    "name": "ipython",
    "version": 3
   },
   "file_extension": ".py",
   "mimetype": "text/x-python",
   "name": "python",
   "nbconvert_exporter": "python",
   "pygments_lexer": "ipython3",
   "version": "3.9.13"
  },
  "vscode": {
   "interpreter": {
    "hash": "c1468f60d9edeeb6d9fc6f4e8ccf26c6ba135ee4175c1cdb1b4a7c5a5d652f73"
   }
  }
 },
 "nbformat": 4,
 "nbformat_minor": 5
}
